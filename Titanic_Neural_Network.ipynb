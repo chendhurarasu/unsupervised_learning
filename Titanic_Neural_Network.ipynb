{
  "nbformat": 4,
  "nbformat_minor": 0,
  "metadata": {
    "colab": {
      "provenance": []
    },
    "kernelspec": {
      "name": "python3",
      "display_name": "Python 3"
    },
    "language_info": {
      "name": "python"
    }
  },
  "cells": [
    {
      "cell_type": "code",
      "source": [
        "import pandas as pd\n",
        "import numpy as np\n",
        "from sklearn.model_selection import train_test_split\n",
        "from sklearn.preprocessing import StandardScaler\n",
        "from sklearn.metrics import accuracy_score\n",
        "from keras.models import Sequential\n",
        "from keras.layers import Dense"
      ],
      "metadata": {
        "id": "AlyS9WykH-el"
      },
      "execution_count": 1,
      "outputs": []
    },
    {
      "cell_type": "code",
      "source": [
        "# Load the train and test datasets\n",
        "train_url = \"https://github.com/ezioauditore-tech/AI/raw/main/datasets/Titanic/train.csv\"\n",
        "test_url = \"https://github.com/ezioauditore-tech/AI/raw/main/datasets/Titanic/test.csv\"\n",
        "\n",
        "train_data = pd.read_csv(train_url)\n",
        "test_data = pd.read_csv(test_url)\n"
      ],
      "metadata": {
        "id": "hP2AlY3vJIuL"
      },
      "execution_count": 2,
      "outputs": []
    },
    {
      "cell_type": "code",
      "source": [
        "# Preprocess the train data\n",
        "train_data = train_data.drop(['Name', 'Ticket', 'Cabin', 'Embarked', 'PassengerId'], axis=1)\n",
        "train_data = pd.get_dummies(train_data, columns=['Sex'], drop_first=True)\n",
        "train_data = train_data.dropna()"
      ],
      "metadata": {
        "id": "BzmGqUTgJLWx"
      },
      "execution_count": 3,
      "outputs": []
    },
    {
      "cell_type": "code",
      "source": [
        "X_train = train_data.drop('Survived', axis=1)\n",
        "y_train = train_data['Survived']\n",
        "\n",
        "passenger_ids = test_data['PassengerId']  # Save passenger ids for later\n",
        "test_data = test_data.drop(['Name', 'Ticket', 'Cabin', 'Embarked', 'PassengerId'], axis=1)\n",
        "test_data = pd.get_dummies(test_data, columns=['Sex'], drop_first=True)\n",
        "test_data = test_data.fillna(test_data.mean())  # Handle missing values in the test set\n",
        "\n",
        "# X_test = test_data\n",
        "\n"
      ],
      "metadata": {
        "id": "ZJ-xN6cIJQv7"
      },
      "execution_count": 4,
      "outputs": []
    },
    {
      "cell_type": "code",
      "source": [
        "X_train, X_val, y_train, y_val = train_test_split(X_train, y_train, test_size=0.2, random_state=42)\n"
      ],
      "metadata": {
        "id": "wj8bWyzgKMig"
      },
      "execution_count": 5,
      "outputs": []
    },
    {
      "cell_type": "code",
      "source": [
        "# Standardize the data\n",
        "scaler = StandardScaler()\n",
        "X_train = scaler.fit_transform(X_train)\n",
        "X_test = scaler.transform(X_val)\n",
        "\n",
        "# Build the neural network model\n",
        "model = Sequential()\n",
        "model.add(Dense(64, activation='relu', input_shape=(X_train.shape[1],)))\n",
        "model.add(Dense(32, activation='relu'))\n",
        "model.add(Dense(1, activation='sigmoid'))\n",
        "\n"
      ],
      "metadata": {
        "id": "-dBqwKnqJaYi"
      },
      "execution_count": 6,
      "outputs": []
    },
    {
      "cell_type": "code",
      "source": [
        "# Compile the model\n",
        "model.compile(optimizer='adam', loss='binary_crossentropy', metrics=['accuracy'])\n",
        "\n",
        "# Train the model\n",
        "model.fit(X_train, y_train, epochs=50, batch_size=32, validation_split=0.2)\n",
        "\n",
        "# Predict on the test set\n",
        "y_pred_prob = model.predict(X_test)\n",
        "y_pred = (y_pred_prob > 0.5).astype(int)"
      ],
      "metadata": {
        "colab": {
          "base_uri": "https://localhost:8080/"
        },
        "id": "djVLFBpKJb98",
        "outputId": "8dc6b4bf-4197-4586-cf4f-1a9c475a94ca"
      },
      "execution_count": 9,
      "outputs": [
        {
          "output_type": "stream",
          "name": "stdout",
          "text": [
            "Epoch 1/50\n",
            "15/15 [==============================] - 1s 24ms/step - loss: 0.3964 - accuracy: 0.8355 - val_loss: 0.4809 - val_accuracy: 0.8000\n",
            "Epoch 2/50\n",
            "15/15 [==============================] - 0s 8ms/step - loss: 0.3878 - accuracy: 0.8399 - val_loss: 0.4749 - val_accuracy: 0.8087\n",
            "Epoch 3/50\n",
            "15/15 [==============================] - 0s 7ms/step - loss: 0.3850 - accuracy: 0.8399 - val_loss: 0.4700 - val_accuracy: 0.8000\n",
            "Epoch 4/50\n",
            "15/15 [==============================] - 0s 8ms/step - loss: 0.3803 - accuracy: 0.8399 - val_loss: 0.4722 - val_accuracy: 0.8000\n",
            "Epoch 5/50\n",
            "15/15 [==============================] - 0s 7ms/step - loss: 0.3774 - accuracy: 0.8465 - val_loss: 0.4768 - val_accuracy: 0.7913\n",
            "Epoch 6/50\n",
            "15/15 [==============================] - 0s 8ms/step - loss: 0.3749 - accuracy: 0.8465 - val_loss: 0.4717 - val_accuracy: 0.8000\n",
            "Epoch 7/50\n",
            "15/15 [==============================] - 0s 7ms/step - loss: 0.3731 - accuracy: 0.8465 - val_loss: 0.4761 - val_accuracy: 0.8000\n",
            "Epoch 8/50\n",
            "15/15 [==============================] - 0s 6ms/step - loss: 0.3695 - accuracy: 0.8509 - val_loss: 0.4708 - val_accuracy: 0.8000\n",
            "Epoch 9/50\n",
            "15/15 [==============================] - 0s 7ms/step - loss: 0.3670 - accuracy: 0.8531 - val_loss: 0.4707 - val_accuracy: 0.8087\n",
            "Epoch 10/50\n",
            "15/15 [==============================] - 0s 6ms/step - loss: 0.3667 - accuracy: 0.8553 - val_loss: 0.4697 - val_accuracy: 0.8000\n",
            "Epoch 11/50\n",
            "15/15 [==============================] - 0s 7ms/step - loss: 0.3630 - accuracy: 0.8531 - val_loss: 0.4691 - val_accuracy: 0.8087\n",
            "Epoch 12/50\n",
            "15/15 [==============================] - 0s 6ms/step - loss: 0.3634 - accuracy: 0.8618 - val_loss: 0.4756 - val_accuracy: 0.8087\n",
            "Epoch 13/50\n",
            "15/15 [==============================] - 0s 5ms/step - loss: 0.3607 - accuracy: 0.8531 - val_loss: 0.4717 - val_accuracy: 0.8000\n",
            "Epoch 14/50\n",
            "15/15 [==============================] - 0s 5ms/step - loss: 0.3585 - accuracy: 0.8553 - val_loss: 0.4734 - val_accuracy: 0.7913\n",
            "Epoch 15/50\n",
            "15/15 [==============================] - 0s 6ms/step - loss: 0.3589 - accuracy: 0.8575 - val_loss: 0.4781 - val_accuracy: 0.7826\n",
            "Epoch 16/50\n",
            "15/15 [==============================] - 0s 5ms/step - loss: 0.3563 - accuracy: 0.8618 - val_loss: 0.4751 - val_accuracy: 0.8000\n",
            "Epoch 17/50\n",
            "15/15 [==============================] - 0s 6ms/step - loss: 0.3550 - accuracy: 0.8575 - val_loss: 0.4695 - val_accuracy: 0.8000\n",
            "Epoch 18/50\n",
            "15/15 [==============================] - 0s 5ms/step - loss: 0.3519 - accuracy: 0.8553 - val_loss: 0.4685 - val_accuracy: 0.7826\n",
            "Epoch 19/50\n",
            "15/15 [==============================] - 0s 4ms/step - loss: 0.3515 - accuracy: 0.8596 - val_loss: 0.4640 - val_accuracy: 0.7826\n",
            "Epoch 20/50\n",
            "15/15 [==============================] - 0s 5ms/step - loss: 0.3500 - accuracy: 0.8575 - val_loss: 0.4733 - val_accuracy: 0.7826\n",
            "Epoch 21/50\n",
            "15/15 [==============================] - 0s 5ms/step - loss: 0.3493 - accuracy: 0.8662 - val_loss: 0.4725 - val_accuracy: 0.7913\n",
            "Epoch 22/50\n",
            "15/15 [==============================] - 0s 6ms/step - loss: 0.3478 - accuracy: 0.8596 - val_loss: 0.4780 - val_accuracy: 0.7652\n",
            "Epoch 23/50\n",
            "15/15 [==============================] - 0s 6ms/step - loss: 0.3444 - accuracy: 0.8618 - val_loss: 0.4778 - val_accuracy: 0.7739\n",
            "Epoch 24/50\n",
            "15/15 [==============================] - 0s 5ms/step - loss: 0.3439 - accuracy: 0.8618 - val_loss: 0.4778 - val_accuracy: 0.7739\n",
            "Epoch 25/50\n",
            "15/15 [==============================] - 0s 5ms/step - loss: 0.3420 - accuracy: 0.8596 - val_loss: 0.4736 - val_accuracy: 0.7826\n",
            "Epoch 26/50\n",
            "15/15 [==============================] - 0s 4ms/step - loss: 0.3409 - accuracy: 0.8596 - val_loss: 0.4806 - val_accuracy: 0.7652\n",
            "Epoch 27/50\n",
            "15/15 [==============================] - 0s 5ms/step - loss: 0.3405 - accuracy: 0.8575 - val_loss: 0.4778 - val_accuracy: 0.7652\n",
            "Epoch 28/50\n",
            "15/15 [==============================] - 0s 5ms/step - loss: 0.3402 - accuracy: 0.8596 - val_loss: 0.4837 - val_accuracy: 0.7739\n",
            "Epoch 29/50\n",
            "15/15 [==============================] - 0s 6ms/step - loss: 0.3374 - accuracy: 0.8596 - val_loss: 0.4840 - val_accuracy: 0.7826\n",
            "Epoch 30/50\n",
            "15/15 [==============================] - 0s 5ms/step - loss: 0.3363 - accuracy: 0.8640 - val_loss: 0.4825 - val_accuracy: 0.7739\n",
            "Epoch 31/50\n",
            "15/15 [==============================] - 0s 6ms/step - loss: 0.3400 - accuracy: 0.8618 - val_loss: 0.4761 - val_accuracy: 0.7739\n",
            "Epoch 32/50\n",
            "15/15 [==============================] - 0s 4ms/step - loss: 0.3353 - accuracy: 0.8684 - val_loss: 0.4778 - val_accuracy: 0.7739\n",
            "Epoch 33/50\n",
            "15/15 [==============================] - 0s 5ms/step - loss: 0.3341 - accuracy: 0.8706 - val_loss: 0.4794 - val_accuracy: 0.7913\n",
            "Epoch 34/50\n",
            "15/15 [==============================] - 0s 5ms/step - loss: 0.3327 - accuracy: 0.8618 - val_loss: 0.4751 - val_accuracy: 0.8000\n",
            "Epoch 35/50\n",
            "15/15 [==============================] - 0s 5ms/step - loss: 0.3323 - accuracy: 0.8640 - val_loss: 0.4839 - val_accuracy: 0.7913\n",
            "Epoch 36/50\n",
            "15/15 [==============================] - 0s 5ms/step - loss: 0.3303 - accuracy: 0.8662 - val_loss: 0.4837 - val_accuracy: 0.7826\n",
            "Epoch 37/50\n",
            "15/15 [==============================] - 0s 5ms/step - loss: 0.3301 - accuracy: 0.8640 - val_loss: 0.4727 - val_accuracy: 0.7826\n",
            "Epoch 38/50\n",
            "15/15 [==============================] - 0s 5ms/step - loss: 0.3292 - accuracy: 0.8706 - val_loss: 0.4866 - val_accuracy: 0.7913\n",
            "Epoch 39/50\n",
            "15/15 [==============================] - 0s 5ms/step - loss: 0.3285 - accuracy: 0.8596 - val_loss: 0.4817 - val_accuracy: 0.7739\n",
            "Epoch 40/50\n",
            "15/15 [==============================] - 0s 6ms/step - loss: 0.3293 - accuracy: 0.8640 - val_loss: 0.4748 - val_accuracy: 0.7826\n",
            "Epoch 41/50\n",
            "15/15 [==============================] - 0s 6ms/step - loss: 0.3258 - accuracy: 0.8640 - val_loss: 0.4874 - val_accuracy: 0.7913\n",
            "Epoch 42/50\n",
            "15/15 [==============================] - 0s 5ms/step - loss: 0.3269 - accuracy: 0.8640 - val_loss: 0.4899 - val_accuracy: 0.7826\n",
            "Epoch 43/50\n",
            "15/15 [==============================] - 0s 4ms/step - loss: 0.3233 - accuracy: 0.8684 - val_loss: 0.4812 - val_accuracy: 0.7826\n",
            "Epoch 44/50\n",
            "15/15 [==============================] - 0s 6ms/step - loss: 0.3241 - accuracy: 0.8684 - val_loss: 0.4931 - val_accuracy: 0.7826\n",
            "Epoch 45/50\n",
            "15/15 [==============================] - 0s 5ms/step - loss: 0.3212 - accuracy: 0.8706 - val_loss: 0.4981 - val_accuracy: 0.7739\n",
            "Epoch 46/50\n",
            "15/15 [==============================] - 0s 5ms/step - loss: 0.3222 - accuracy: 0.8750 - val_loss: 0.4888 - val_accuracy: 0.7652\n",
            "Epoch 47/50\n",
            "15/15 [==============================] - 0s 4ms/step - loss: 0.3226 - accuracy: 0.8728 - val_loss: 0.4908 - val_accuracy: 0.7913\n",
            "Epoch 48/50\n",
            "15/15 [==============================] - 0s 5ms/step - loss: 0.3233 - accuracy: 0.8640 - val_loss: 0.4962 - val_accuracy: 0.7826\n",
            "Epoch 49/50\n",
            "15/15 [==============================] - 0s 5ms/step - loss: 0.3185 - accuracy: 0.8662 - val_loss: 0.4968 - val_accuracy: 0.7826\n",
            "Epoch 50/50\n",
            "15/15 [==============================] - 0s 5ms/step - loss: 0.3178 - accuracy: 0.8684 - val_loss: 0.4875 - val_accuracy: 0.7739\n",
            "5/5 [==============================] - 0s 3ms/step\n"
          ]
        }
      ]
    },
    {
      "cell_type": "code",
      "source": [
        "# Evaluate the model on the validation set\n",
        "y_val_pred_prob = model.predict(X_val)\n",
        "y_val_pred = (y_val_pred_prob > 0.5).astype(int)\n",
        "\n",
        "accuracy_val = accuracy_score(y_val, y_val_pred)\n",
        "print(f\"Validation Accuracy: {accuracy_val}\")"
      ],
      "metadata": {
        "colab": {
          "base_uri": "https://localhost:8080/"
        },
        "id": "_vu2oO2IKZX4",
        "outputId": "bb0fd920-745b-4bb5-b94b-41c6d2bba60f"
      },
      "execution_count": 10,
      "outputs": [
        {
          "output_type": "stream",
          "name": "stdout",
          "text": [
            "5/5 [==============================] - 0s 3ms/step\n",
            "Validation Accuracy: 0.6363636363636364\n"
          ]
        }
      ]
    },
    {
      "cell_type": "code",
      "source": [],
      "metadata": {
        "id": "dFH45z3NLBaG"
      },
      "execution_count": 8,
      "outputs": []
    }
  ]
}